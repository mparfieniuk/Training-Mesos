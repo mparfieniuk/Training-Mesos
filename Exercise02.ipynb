{
 "cells": [
  {
   "cell_type": "markdown",
   "metadata": {},
   "source": [
    "# Install Mesos on the Servers"
   ]
  },
  {
   "cell_type": "markdown",
   "metadata": {},
   "source": [
    "The first step to getting your cluster up and running is to install the software. Fortunately, the Mesos project maintains an Ubuntu repository with up-to-date packages that are easy to install."
   ]
  },
  {
   "cell_type": "markdown",
   "metadata": {},
   "source": [
    "__Add the Mesos Repositories to your Hosts__"
   ]
  },
  {
   "cell_type": "markdown",
   "metadata": {},
   "source": [
    "On __all__ of the hosts (master and slaves), complete the following steps.\n",
    "\n",
    "First, add the Mesosphere repository to your sources list. This process involves downloading the Mesosphere project's key from the Ubuntu keyserver and then crafting the correct URL for our Ubuntu release. The project provides a convenient way of doing this:"
   ]
  },
  {
   "cell_type": "code",
   "execution_count": null,
   "metadata": {
    "collapsed": false
   },
   "outputs": [],
   "source": [
    "sudo apt-key adv --keyserver keyserver.ubuntu.com --recv E56151BF\n",
    "\n",
    "DISTRO=$(lsb_release -is | tr '[:upper:]' '[:lower:]')\n",
    "CODENAME=$(lsb_release -cs)\n",
    "echo \"deb http://repos.mesosphere.io/${DISTRO} ${CODENAME} main\" | sudo tee /etc/apt/sources.list.d/mesos.list"
   ]
  },
  {
   "cell_type": "markdown",
   "metadata": {},
   "source": [
    "__Install the Necessary Components__\n"
   ]
  },
  {
   "cell_type": "markdown",
   "metadata": {},
   "source": [
    "After you have the Mesos repository added to your system, you must update your local package cache to gain access to the new component:"
   ]
  },
  {
   "cell_type": "code",
   "execution_count": null,
   "metadata": {
    "collapsed": true,
    "raw_mimetype": "text/x-python"
   },
   "outputs": [],
   "source": [
    "sudo apt-get -y update"
   ]
  },
  {
   "cell_type": "markdown",
   "metadata": {},
   "source": [
    "Next, you need to install the necessary packages. The components you need will depend on the role of the host."
   ]
  },
  {
   "cell_type": "markdown",
   "metadata": {},
   "source": [
    "For your __master__ and __slave__ hosts, you only need the mesos package, which also pulls in zookeeper as a dependency:"
   ]
  },
  {
   "cell_type": "code",
   "execution_count": null,
   "metadata": {
    "collapsed": true,
    "raw_mimetype": "text/x-python"
   },
   "outputs": [],
   "source": [
    "sudo apt-get install mesos"
   ]
  },
  {
   "cell_type": "markdown",
   "metadata": {},
   "source": [
    "For your __master__ host, you need the oracle-java8 package:"
   ]
  },
  {
   "cell_type": "code",
   "execution_count": null,
   "metadata": {
    "collapsed": true,
    "raw_mimetype": "text/x-python"
   },
   "outputs": [],
   "source": [
    "# Add the Mesosphere repository\n",
    "sudo apt-get update -y\n",
    "sudo DEBIAN_FRONTEND=noninteractive apt-get install -y python-software-properties software-properties-common\n",
    "sudo apt-key adv --keyserver keyserver.ubuntu.com --recv E56151BF\n",
    "\n",
    "DISTRO=$(lsb_release -is | tr '[:upper:]' '[:lower:]')\n",
    "CODENAME=$(lsb_release -cs)\n",
    "echo \"deb http://repos.mesosphere.io/${DISTRO} ${CODENAME} main\" | sudo tee /etc/apt/sources.list.d/mesosphere.list\n",
    "\n",
    "# Install Java 8 from Oracle's PPA\n",
    "sudo add-apt-repository ppa:webupd8team/\n",
    "    \n",
    "sudo apt-get update -y\n",
    "sudo apt-get install -y oracle-java8-installer oracle-java8-set-default"
   ]
  },
  {
   "cell_type": "markdown",
   "metadata": {},
   "source": [
    "Which is needed to install __marathon__:"
   ]
  },
  {
   "cell_type": "code",
   "execution_count": null,
   "metadata": {
    "collapsed": true
   },
   "outputs": [],
   "source": [
    "sudo apt-get install marathon"
   ]
  }
 ],
 "metadata": {
  "celltoolbar": "Raw Cell Format",
  "kernelspec": {
   "display_name": "Python 3",
   "language": "python",
   "name": "python3"
  },
  "language_info": {
   "codemirror_mode": {
    "name": "ipython",
    "version": 3
   },
   "file_extension": ".py",
   "mimetype": "text/x-python",
   "name": "python",
   "nbconvert_exporter": "python",
   "pygments_lexer": "ipython3",
   "version": "3.5.1"
  }
 },
 "nbformat": 4,
 "nbformat_minor": 0
}
