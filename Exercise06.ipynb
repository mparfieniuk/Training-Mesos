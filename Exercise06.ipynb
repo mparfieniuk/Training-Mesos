{
 "cells": [
  {
   "cell_type": "markdown",
   "metadata": {},
   "source": [
    "# Configure the Slave Servers"
   ]
  },
  {
   "cell_type": "markdown",
   "metadata": {},
   "source": [
    "Now that we have our master servers configured, we can begin configuring our slave servers.\n",
    "\n",
    "We have already configured our slaves with our masters servers' __zookeeper__ connection information. The slaves themselves do not run their own zookeeper instances.\n",
    "\n",
    "We can stop any __zookeeper__ process currently running on our slave nodes and create an override file so that it will not automatically start when the server reboots:"
   ]
  },
  {
   "cell_type": "code",
   "execution_count": null,
   "metadata": {
    "collapsed": true
   },
   "outputs": [],
   "source": [
    "sudo stop zookeeper\n",
    "echo manual | sudo tee /etc/init/zookeeper.override"
   ]
  },
  {
   "cell_type": "markdown",
   "metadata": {},
   "source": [
    "Next, we want to create another override file to make sure the Mesos master process doesn't start on our slave servers. We will also ensure that it is stopped currently (this command may fail if the process is already stopped. This is not a problem):"
   ]
  },
  {
   "cell_type": "code",
   "execution_count": null,
   "metadata": {
    "collapsed": true
   },
   "outputs": [],
   "source": [
    "echo manual | sudo tee /etc/init/mesos-master.override\n",
    "sudo stop mesos-master"
   ]
  },
  {
   "cell_type": "markdown",
   "metadata": {},
   "source": [
    "Next, we need to set the IP address and hostname, just as we did for our master servers. This involves putting each node's IP address into a file, this time under the __/etc/mesos-slave directory__. We will use this as the hostname as well, for easy access to services through the web interface:"
   ]
  },
  {
   "cell_type": "code",
   "execution_count": null,
   "metadata": {
    "collapsed": true
   },
   "outputs": [],
   "source": [
    "echo PUBLIC_IP| sudo tee /etc/mesos-slave/ip\n",
    "echo mesos[2,3] | /etc/mesos-slave/hostname"
   ]
  },
  {
   "cell_type": "markdown",
   "metadata": {},
   "source": [
    "Tune __/etc/hosts__ config as like below:"
   ]
  },
  {
   "cell_type": "code",
   "execution_count": null,
   "metadata": {
    "collapsed": true
   },
   "outputs": [],
   "source": [
    "PUBLIC_IP mesos1\n",
    "PUBLIC_IP mesos2\n",
    "PUBLIC_IP mesos3\n",
    "PUBLIC_IP mesos4"
   ]
  },
  {
   "cell_type": "markdown",
   "metadata": {},
   "source": [
    "Check hostname configuration, should look similar to the one below:"
   ]
  },
  {
   "cell_type": "code",
   "execution_count": null,
   "metadata": {
    "collapsed": true
   },
   "outputs": [],
   "source": [
    "Mesos@mesos1:~$ cat /etc/hosts\n",
    "127.0.0.1 localhost mesos1\n",
    "\n",
    "# The following lines are desirable for IPv6 capable hosts\n",
    "::1 ip6-localhost ip6-loopback\n",
    "fe00::0 ip6-localnet\n",
    "ff00::0 ip6-mcastprefix\n",
    "ff02::1 ip6-allnodes\n",
    "ff02::2 ip6-allrouters\n",
    "ff02::3 ip6-allhosts\n",
    "PUBLIC_IP mesos1\n",
    "PUBLIC_IP mesos2\n",
    "PUBLIC_IP mesos3\n",
    "PUBLIC_IP mesos4\n",
    "\n",
    "Mesos@mesos1:~$ cat /etc/hostname\n",
    "mesos1\n",
    "Mesos@mesos1:~$ cat /etc/mesos-master/hostname\n",
    "mesos1"
   ]
  },
  {
   "cell_type": "markdown",
   "metadata": {},
   "source": [
    "Again, use each slave server's individual IP address for the first command. This will ensure that it is being bound to the correct interface.\n",
    "\n",
    "Now, we have all of the pieces in place to start our Mesos slaves. We just need to turn on the service:"
   ]
  },
  {
   "cell_type": "code",
   "execution_count": null,
   "metadata": {
    "collapsed": true
   },
   "outputs": [],
   "source": [
    "sudo start mesos-slave"
   ]
  },
  {
   "cell_type": "markdown",
   "metadata": {},
   "source": [
    "Do this on each of your slave machines.\n",
    "\n",
    "To see whether your slaves are successfully registering themselves in your cluster, go back to your one of your master servers at port __5050__:\n",
    "\n"
   ]
  },
  {
   "cell_type": "code",
   "execution_count": null,
   "metadata": {
    "collapsed": true
   },
   "outputs": [],
   "source": [
    "http://MASTER_PUBLIC_IP:5050"
   ]
  },
  {
   "cell_type": "markdown",
   "metadata": {},
   "source": [
    "You should see the number of active slaves at \"3\" now in the interface:\n",
    "\n",
    "\n",
    "<img src=\"Images/mesos3.png\">"
   ]
  },
  {
   "cell_type": "markdown",
   "metadata": {},
   "source": [
    "You can also see that the available resources in the interface has been updated to reflect the pooled resources of your slave machines:\n",
    "\n",
    "\n",
    "<img src=\"Images/mesos4.png\">"
   ]
  },
  {
   "cell_type": "markdown",
   "metadata": {},
   "source": [
    "To get additional information about each of your slave machines, you can click on the \"Slaves\" link at the top of the interface. This will give you an overview of each machine's resource contribution, as well as links to a page for each slave:\n",
    "\n",
    "<img src=\"Images/mesos6.png\">"
   ]
  }
 ],
 "metadata": {
  "kernelspec": {
   "display_name": "Python 3",
   "language": "python",
   "name": "python3"
  },
  "language_info": {
   "codemirror_mode": {
    "name": "ipython",
    "version": 3
   },
   "file_extension": ".py",
   "mimetype": "text/x-python",
   "name": "python",
   "nbconvert_exporter": "python",
   "pygments_lexer": "ipython3",
   "version": "3.5.1"
  }
 },
 "nbformat": 4,
 "nbformat_minor": 0
}
