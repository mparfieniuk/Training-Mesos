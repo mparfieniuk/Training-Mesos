{
 "cells": [
  {
   "cell_type": "markdown",
   "metadata": {},
   "source": [
    "# Using the Marathon GUI\n",
    "\n"
   ]
  },
  {
   "cell_type": "markdown",
   "metadata": {},
   "source": [
    "1. Install an app and start a simple Python web server by using Marathon. (python -m SimpleHTTPServer)\n",
    "* Test that the Python web server is live.\n",
    "* Use the command line to kill the python web server.\n",
    "* Watch Marathon bring the Python web server back up.\n",
    "* Learn how to scale the app and halt the process.\n",
    "* Scale the apps further than 1 node using randomly assigned ports."
   ]
  },
  {
   "cell_type": "markdown",
   "metadata": {},
   "source": [
    "Checking if the SimpleHTTPServer is running:"
   ]
  },
  {
   "cell_type": "code",
   "execution_count": null,
   "metadata": {
    "collapsed": true
   },
   "outputs": [],
   "source": [
    "root@mesos2:~# curl http://localhost:8000\n",
    "<!DOCTYPE html PUBLIC \"-//W3C//DTD HTML 3.2 Final//EN\"><html>\n",
    "<title>Directory listing for /</title>\n",
    "<body>\n",
    "<h2>Directory listing for /</h2>\n",
    "<hr>\n",
    "<ul>\n",
    "<li><a href=\"stderr\">stderr</a>\n",
    "<li><a href=\"stdout\">stdout</a>\n",
    "</ul>\n",
    "<hr>\n",
    "</body>\n",
    "</html>\n",
    "root@mesos2:~#"
   ]
  },
  {
   "cell_type": "markdown",
   "metadata": {},
   "source": [
    "Killing the SimpleHTTPServer"
   ]
  },
  {
   "cell_type": "code",
   "execution_count": null,
   "metadata": {
    "collapsed": true
   },
   "outputs": [],
   "source": [
    "root@mesos2:~# ps ax |grep python\n",
    "  912 ?        Ssl    0:06 /usr/bin/python /usr/sbin/waagent -daemon\n",
    " 3615 ?        Ss     0:00 sh -c python -m SimpleHTTPServer\n",
    " 3616 ?        S      0:00 python -m SimpleHTTPServer\n",
    " 3700 pts/0    S+     0:00 grep --color=auto python\n",
    "root@mesos2:~# kill 3616\n",
    "root@mesos2:~# "
   ]
  }
 ],
 "metadata": {
  "kernelspec": {
   "display_name": "Python 3",
   "language": "python",
   "name": "python3"
  },
  "language_info": {
   "codemirror_mode": {
    "name": "ipython",
    "version": 3
   },
   "file_extension": ".py",
   "mimetype": "text/x-python",
   "name": "python",
   "nbconvert_exporter": "python",
   "pygments_lexer": "ipython3",
   "version": "3.5.1"
  }
 },
 "nbformat": 4,
 "nbformat_minor": 0
}
