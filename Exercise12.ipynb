{
 "cells": [
  {
   "cell_type": "markdown",
   "metadata": {},
   "source": [
    "# Running Docker containers in Marathon\n",
    "\n"
   ]
  },
  {
   "cell_type": "markdown",
   "metadata": {},
   "source": [
    "Try to deploy Fibonacci example app via Marathon:"
   ]
  },
  {
   "cell_type": "markdown",
   "metadata": {
    "collapsed": true
   },
   "source": [
    "<img src=\"Images/mesos13.png\">\n"
   ]
  },
  {
   "cell_type": "markdown",
   "metadata": {},
   "source": [
    "Investigate the logs and find out what is wrong. If you found the problem, try to deploy the app with curl."
   ]
  },
  {
   "cell_type": "code",
   "execution_count": null,
   "metadata": {
    "collapsed": true
   },
   "outputs": [],
   "source": [
    "{\n",
    "  \"id\": \"/service/fibonacci\",\n",
    "  \"cmd\": null,\n",
    "  \"cpus\": 1,\n",
    "  \"mem\": 240,\n",
    "  \"disk\": 0,\n",
    "  \"instances\": 2,\n",
    "  \"container\": {\n",
    "    \"type\": \"DOCKER\",\n",
    "    \"volumes\": [],\n",
    "    \"docker\": {\n",
    "      \"image\": \"krestjaninoff/fibonacci-service\",\n",
    "      \"network\": \"BRIDGE\",\n",
    "      \"portMappings\": [\n",
    "        {\n",
    "          \"containerPort\": 8099,\n",
    "          \"hostPort\": 0,\n",
    "          \"servicePort\": 10000,\n",
    "          \"protocol\": \"tcp\",\n",
    "          \"name\": \"fibo\",\n",
    "          \"labels\": {}\n",
    "        }\n",
    "      ],\n",
    "      \"privileged\": false,\n",
    "      \"parameters\": [],\n",
    "      \"forcePullImage\": false\n",
    "    }\n",
    "  },\n",
    "  \"env\": {\n",
    "    \"dns.enabled\": \"false\"\n",
    "  },\n",
    "  \"portDefinitions\": [\n",
    "    {\n",
    "      \"port\": 10000,\n",
    "      \"protocol\": \"tcp\",\n",
    "      \"labels\": {}\n",
    "    }\n",
    "  ]\n",
    "}"
   ]
  }
 ],
 "metadata": {
  "kernelspec": {
   "display_name": "Python 3",
   "language": "python",
   "name": "python3"
  },
  "language_info": {
   "codemirror_mode": {
    "name": "ipython",
    "version": 3
   },
   "file_extension": ".py",
   "mimetype": "text/x-python",
   "name": "python",
   "nbconvert_exporter": "python",
   "pygments_lexer": "ipython3",
   "version": "3.5.1"
  }
 },
 "nbformat": 4,
 "nbformat_minor": 0
}
