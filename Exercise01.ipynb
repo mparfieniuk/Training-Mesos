{
 "cells": [
  {
   "cell_type": "markdown",
   "metadata": {},
   "source": [
    "# Introduction"
   ]
  },
  {
   "cell_type": "markdown",
   "metadata": {},
   "source": [
    "Mesos is built using the same principles as the Linux kernel, only at a different level of abstraction. The Mesos\n",
    "kernel runs on every machine and provides applications (e.g., Hadoop, Spark, Kafka, Elastic Search) with API’s for\n",
    "resource management and scheduling across entire datacenter and cloud environments.\n",
    "\n",
    "We will be using Ubuntu 14.04 servers for this guide."
   ]
  },
  {
   "cell_type": "markdown",
   "metadata": {},
   "source": [
    "# Prerequisites and Goals\n"
   ]
  },
  {
   "cell_type": "markdown",
   "metadata": {},
   "source": [
    "During this tutorial, we will be using four Ubuntu servers. One server acting as Mesos Master and a pool of three worker or slave servers, which will be assigned work when tasks are sent to the cluster.\n",
    "\n",
    "The Mesos layer, built on top of this, will provide distributed synchronization and resource handling. It is responsible for managing the cluster. Marathon, the cluster's distributed init system, is used to schedule tasks and hand work to the slave servers.\n",
    "\n",
    "For the sake of this guide, we will be assuming that our machines have the following configuration:"
   ]
  },
  {
   "cell_type": "markdown",
   "metadata": {},
   "source": [
    "\n",
    "| HOSTNAME      | FUNCTION      | IP adress   |\n",
    "| ------------- |:-------------:| ----------: |\n",
    "| mesos1        |mesos master   |PUBLIC_IP    |\n",
    "| mesos2        |mesos slave    |PUBLIC_IP    |\n",
    "| mesos3        |mesos slave    |PUBLIC_IP    |"
   ]
  },
  {
   "cell_type": "markdown",
   "metadata": {},
   "source": [
    "__YSN__ - its Your Student Number\n",
    "\n",
    "Each of these machines should have Ubuntu 14.04 installed. You will want to complete the basic configuration items listed in our Ubuntu 14.04 initial server setup guide.\n",
    "\n",
    "When you are finished with the above steps, continue on with this guide.\n"
   ]
  },
  {
   "cell_type": "code",
   "execution_count": null,
   "metadata": {
    "collapsed": true
   },
   "outputs": [],
   "source": []
  }
 ],
 "metadata": {
  "celltoolbar": "Raw Cell Format",
  "kernelspec": {
   "display_name": "Python 3",
   "language": "python",
   "name": "python3"
  },
  "language_info": {
   "codemirror_mode": {
    "name": "ipython",
    "version": 3
   },
   "file_extension": ".py",
   "mimetype": "text/x-python",
   "name": "python",
   "nbconvert_exporter": "python",
   "pygments_lexer": "ipython3",
   "version": "3.5.1"
  }
 },
 "nbformat": 4,
 "nbformat_minor": 0
}
