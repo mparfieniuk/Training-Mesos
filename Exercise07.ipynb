{
 "cells": [
  {
   "cell_type": "markdown",
   "metadata": {},
   "source": [
    "# Starting Services on Mesos and Marathon"
   ]
  },
  {
   "cell_type": "markdown",
   "metadata": {},
   "source": [
    "Marathon is Mesosphere's utility for scheduling long-running tasks. It is easy to think of Marathon as the init system for a Mesosphere cluster because it handles starting and stopping services, scheduling tasks, and making sure applications come back up if they go down."
   ]
  },
  {
   "cell_type": "markdown",
   "metadata": {},
   "source": [
    "### Starting a Service through the Web Interface"
   ]
  },
  {
   "cell_type": "markdown",
   "metadata": {},
   "source": [
    "The most straight forward way of getting a service running quickly on the cluster is to add an application through the Marathon web interface.\n",
    "\n",
    "First, visit the Marathon web interface on one of your the master servers. Remember, the Marathon interface is on port __8080__:"
   ]
  },
  {
   "cell_type": "code",
   "execution_count": null,
   "metadata": {
    "collapsed": true
   },
   "outputs": [],
   "source": [
    "http://MASTER_PUBLIC_IP:8080"
   ]
  },
  {
   "cell_type": "markdown",
   "metadata": {},
   "source": [
    "From here, you can click on the \"New App\" button in the upper-right corner. This will pop up an overlay where you can add information about your new application:\n",
    "<img src=\"Images/mesos7.png\">"
   ]
  },
  {
   "cell_type": "markdown",
   "metadata": {},
   "source": [
    "Fill in the fields with the requirements for your app. The only fields that are mandatory are:\n",
    "\n",
    "<p>__ID__: A unique ID selected by the user to identify a process. This can be whatever you'd like, but must be unique.</p>\n",
    "<p>__Command__: This is the actual command that will be run by Marathon. This is the process that will be monitored and restarted if it fails.</p>\n",
    "Using this information, you can set up a simple service that just prints \"hello\" and sleeps for 10 seconds. We will call this \"hello\":\n",
    "<img src=\"Images/mesos8.png\">"
   ]
  },
  {
   "cell_type": "markdown",
   "metadata": {},
   "source": [
    "When you return to the interface, the service will go from \"Deploying\" to \"Running\":\n",
    "\n",
    "\n",
    "<img src=\"Images/mesos9.png\">"
   ]
  },
  {
   "cell_type": "markdown",
   "metadata": {},
   "source": [
    "Every 10 seconds or so, the \"Tasks/Instances\" reading will go from \"1/1\" to \"0/1\" as the sleep amount passes and the service stops. Marathon then automatically restarts the task again. We can see this process more clearly in the Mesos web interface at port __5050__:\n",
    "\n"
   ]
  },
  {
   "cell_type": "raw",
   "metadata": {},
   "source": [
    "http://MASTER_PUBLIC_IP:5050"
   ]
  },
  {
   "cell_type": "markdown",
   "metadata": {},
   "source": [
    "Here, you can see the process finishing and being restarted:\n",
    "<img src=\"Images/mesos10.png\">"
   ]
  },
  {
   "cell_type": "markdown",
   "metadata": {},
   "source": [
    "If you click on \"Sandbox\" and then \"stdout\" on any of the tasks, you can see the \"hello\" output being produced:\n",
    "<img src=\"Images/mesos11.png\">"
   ]
  }
 ],
 "metadata": {
  "kernelspec": {
   "display_name": "Python 3",
   "language": "python",
   "name": "python3"
  },
  "language_info": {
   "codemirror_mode": {
    "name": "ipython",
    "version": 3
   },
   "file_extension": ".py",
   "mimetype": "text/x-python",
   "name": "python",
   "nbconvert_exporter": "python",
   "pygments_lexer": "ipython3",
   "version": "3.5.1"
  }
 },
 "nbformat": 4,
 "nbformat_minor": 0
}
