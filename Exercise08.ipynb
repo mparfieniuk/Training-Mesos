{
 "cells": [
  {
   "cell_type": "markdown",
   "metadata": {},
   "source": [
    "# Starting a Service through the API\n",
    "\n"
   ]
  },
  {
   "cell_type": "markdown",
   "metadata": {},
   "source": [
    "We can also submit services through Marathon's API. This involves passing in a JSON object containing all of the fields that the overlay contained.\n",
    "\n",
    "This is a relatively simple process. Again, the only required fields are __id__ for the process identifier and __cmd__ which contains the actual command to run.\n",
    "\n",
    "So we could create a JSON file called  __hello.json__ </span> with this information:"
   ]
  },
  {
   "cell_type": "code",
   "execution_count": null,
   "metadata": {
    "collapsed": true
   },
   "outputs": [],
   "source": [
    "vim hello.json"
   ]
  },
  {
   "cell_type": "markdown",
   "metadata": {},
   "source": [
    "Inside, the bare minimum specification would look like this:"
   ]
  },
  {
   "cell_type": "code",
   "execution_count": null,
   "metadata": {
    "collapsed": true
   },
   "outputs": [],
   "source": [
    "{\n",
    "    \"id\": \"hello2\",\n",
    "    \"cmd\": \"echo hello; sleep 10\"\n",
    "}"
   ]
  },
  {
   "cell_type": "markdown",
   "metadata": {},
   "source": [
    "This service will work just fine. However, if we truly want to emulate the service we created in the web UI, we have to add some additional fields. These were defaulted in the web UI and we can replicate them here:"
   ]
  },
  {
   "cell_type": "code",
   "execution_count": null,
   "metadata": {
    "collapsed": true
   },
   "outputs": [],
   "source": [
    "{\n",
    "    \"id\": \"hello2\",\n",
    "    \"cmd\": \"echo hello; sleep 10\",\n",
    "    \"mem\": 16,\n",
    "    \"cpus\": 0.1,\n",
    "    \"instances\": 1,\n",
    "    \"disk\": 0.0,\n",
    "    \"ports\": [0]\n",
    "}"
   ]
  },
  {
   "cell_type": "markdown",
   "metadata": {},
   "source": [
    "Save and close the JSON file when you are finished.\n",
    "\n",
    "Next, we can submit it using the Marathon API. The target is one of our master's Marathon service at port 8080 and the endpoint is __/v2/apps__. The data payload is our JSON file, which we can read into curl by using the __-d__ flag with the __@__ flag to indicate a file.\n",
    "\n",
    "The command to submit will look like this:\n",
    "\n"
   ]
  },
  {
   "cell_type": "code",
   "execution_count": null,
   "metadata": {
    "collapsed": true
   },
   "outputs": [],
   "source": [
    "curl -i -H 'Content-Type: application/json' -d@hello2.json mesos1:8080/v2/apps"
   ]
  },
  {
   "cell_type": "markdown",
   "metadata": {},
   "source": [
    "If we look at the Marathon interface, we can see that it was successfully added. It seems to have the exact same properties as our first service:\n",
    "<img src=\"Images/mesos12.png\">\n",
    "\n",
    "The new service can be monitored and accessed in exactly the same way as the first service.\n",
    "\n"
   ]
  },
  {
   "cell_type": "markdown",
   "metadata": {},
   "source": [
    "To kill the app we can use the following syntax:"
   ]
  },
  {
   "cell_type": "code",
   "execution_count": null,
   "metadata": {
    "collapsed": true
   },
   "outputs": [],
   "source": [
    "curl -X DELETE http://mesos1:8080/v2/apps/hello2"
   ]
  }
 ],
 "metadata": {
  "kernelspec": {
   "display_name": "Python 3",
   "language": "python",
   "name": "python3"
  },
  "language_info": {
   "codemirror_mode": {
    "name": "ipython",
    "version": 3
   },
   "file_extension": ".py",
   "mimetype": "text/x-python",
   "name": "python",
   "nbconvert_exporter": "python",
   "pygments_lexer": "ipython3",
   "version": "3.5.1"
  }
 },
 "nbformat": 4,
 "nbformat_minor": 0
}
