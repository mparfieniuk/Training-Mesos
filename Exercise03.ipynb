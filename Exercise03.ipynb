{
 "cells": [
  {
   "cell_type": "markdown",
   "metadata": {},
   "source": [
    "# Set up the Zookeeper Connection Info for Mesos"
   ]
  },
  {
   "cell_type": "markdown",
   "metadata": {},
   "source": [
    "The first thing we are going to do is configure our **zookeeper** connection info. This is the underlying layer that allows all of our hosts to connect to the correct master servers, so it makes sense to start here.\n",
    "\n",
    "Our master server will be the only member of our **zookeeper** cluster, but all of our servers will need some configuration to be able to communicate using the protocol. The file that defines this is **/etc/mesos/zk**.\n",
    "\n",
    "On __all__ of your hosts, complete the following step. Open the file with root privileges:\n",
    "\n"
   ]
  },
  {
   "cell_type": "code",
   "execution_count": null,
   "metadata": {
    "collapsed": false,
    "raw_mimetype": "text/x-python"
   },
   "outputs": [],
   "source": [
    "sudo vim /etc/mesos/zk"
   ]
  },
  {
   "cell_type": "markdown",
   "metadata": {
    "collapsed": true
   },
   "source": [
    "Inside, you will find the connection URL is set by default to access a local instance. It will look like this:"
   ]
  },
  {
   "cell_type": "code",
   "execution_count": null,
   "metadata": {
    "collapsed": true
   },
   "outputs": [],
   "source": [
    "zk://localhost:2181/mesos"
   ]
  },
  {
   "cell_type": "markdown",
   "metadata": {},
   "source": [
    "We need to modify this to point to our master server. This is done by replacing __localhost__ with the IP address of our Mesos master server. We can then add a comma after the port specification and replicate the format to add our second and third masters to the list.\n",
    "\n",
    "For our guide, our master have __IP__ addresses of __PUBLIC_IP__. Using the value, our file will look like this:"
   ]
  },
  {
   "cell_type": "code",
   "execution_count": null,
   "metadata": {
    "collapsed": true,
    "raw_mimetype": "text/x-python"
   },
   "outputs": [],
   "source": [
    "zk://PUBLIC_IP:2181/mesos"
   ]
  },
  {
   "cell_type": "markdown",
   "metadata": {
    "raw_mimetype": "text/markdown"
   },
   "source": [
    "The line must start with __zk://__ and end with __/mesos__. In between, your master servers' IP addresses and __zookeeper__ ports (__2181__ by default) are specified.\n",
    "\n",
    "Save and close the file when you are finished.\n",
    "\n",
    "Use this identical entry in each of your masters and slaves. This will help each individual server connect to the correct master servers to communicate with the cluster.\n",
    "\n"
   ]
  },
  {
   "cell_type": "markdown",
   "metadata": {},
   "source": [
    "### Configure the Master Servers' Zookeeper Configuration"
   ]
  },
  {
   "cell_type": "markdown",
   "metadata": {
    "raw_mimetype": "text/markdown"
   },
   "source": [
    "On your __master__ server, we will need to do some additional __zookeeper__ configuration.\n",
    "\n",
    "The first step is to define a unique ID number, from 1 to 255, for each of your master servers. This is kept in the __/etc/zookeeper/conf/myid file__. Open it now:"
   ]
  },
  {
   "cell_type": "code",
   "execution_count": null,
   "metadata": {
    "collapsed": false,
    "raw_mimetype": "text/x-python"
   },
   "outputs": [],
   "source": [
    "sudo vim /etc/zookeeper/conf/myid"
   ]
  },
  {
   "cell_type": "markdown",
   "metadata": {},
   "source": [
    "Delete all of the info in this file and replace it with a single number, from 1 to 255. Each of your master servers must have a unique number. For the sake of simplicity, it is easiest to start at 1 and work your way up. We will be using 1, 2, and 3 for our guide.\n",
    "\n",
    "Our first server will just have this in the file:\n",
    "\n"
   ]
  },
  {
   "cell_type": "code",
   "execution_count": null,
   "metadata": {
    "collapsed": true
   },
   "outputs": [],
   "source": [
    "1"
   ]
  },
  {
   "cell_type": "markdown",
   "metadata": {},
   "source": [
    "Save and close the file when you are finished. Do this on each of your master servers.\n",
    "\n",
    "Next, we need to modify our __zookeeper__ configuration file to map our __zookeeper__ IDs to actual hosts. This will ensure that the service can correctly resolve each host from the ID system that it uses.\n",
    "\n",
    "Open the __zookeeper__ configuration file now:\n",
    "\n"
   ]
  },
  {
   "cell_type": "code",
   "execution_count": null,
   "metadata": {
    "collapsed": true,
    "raw_mimetype": "text/x-python"
   },
   "outputs": [],
   "source": [
    "sudo vim /etc/zookeeper/conf/zoo.cfg"
   ]
  },
  {
   "cell_type": "markdown",
   "metadata": {},
   "source": [
    "Within this file, you need to map each ID to a host. The host specification will include two ports, the first for communicating with the leader, and the second for handling elections when a new leader is required. The __zookeeper__ servers are identified by \"server\" followed by a dot and their ID number.\n",
    "\n",
    "For our guide, we will be using the default ports for each function and our IDs are 1-3. Our file will look like this:\n",
    "\n"
   ]
  },
  {
   "cell_type": "code",
   "execution_count": null,
   "metadata": {
    "collapsed": true,
    "raw_mimetype": "text/x-python"
   },
   "outputs": [],
   "source": [
    "server.1=PUBLIC_IP:2888:3888"
   ]
  },
  {
   "cell_type": "markdown",
   "metadata": {},
   "source": [
    "Add these same mappings in each of your master servers' configuration files. Save and close each file when you are finished.\n",
    "\n",
    "With that, our __zookeeper__ configuration is complete. We can begin focusing on Mesos and Marathon."
   ]
  }
 ],
 "metadata": {
  "celltoolbar": "Raw Cell Format",
  "kernelspec": {
   "display_name": "Python 3",
   "language": "python",
   "name": "python3"
  },
  "language_info": {
   "codemirror_mode": {
    "name": "ipython",
    "version": 3
   },
   "file_extension": ".py",
   "mimetype": "text/x-python",
   "name": "python",
   "nbconvert_exporter": "python",
   "pygments_lexer": "ipython3",
   "version": "3.5.1"
  }
 },
 "nbformat": 4,
 "nbformat_minor": 0
}

[Next ->](Exercise04.ipynb)
